{
 "cells": [
  {
   "cell_type": "code",
   "execution_count": 3,
   "metadata": {},
   "outputs": [],
   "source": [
    "import numpy as np\n",
    "import pandas as pd\n",
    "import matplotlib.pyplot as plt\n",
    "from sklearn.model_selection import train_test_split\n",
    "from sklearn.ensemble import RandomForestRegressor\n",
    "from sklearn.utils import all_estimators\n",
    "from sklearn.base import RegressorMixin\n",
    "from sklearn.model_selection import learning_curve"
   ]
  },
  {
   "cell_type": "code",
   "execution_count": 4,
   "metadata": {},
   "outputs": [
    {
     "data": {
      "text/html": [
       "<div>\n",
       "<style scoped>\n",
       "    .dataframe tbody tr th:only-of-type {\n",
       "        vertical-align: middle;\n",
       "    }\n",
       "\n",
       "    .dataframe tbody tr th {\n",
       "        vertical-align: top;\n",
       "    }\n",
       "\n",
       "    .dataframe thead th {\n",
       "        text-align: right;\n",
       "    }\n",
       "</style>\n",
       "<table border=\"1\" class=\"dataframe\">\n",
       "  <thead>\n",
       "    <tr style=\"text-align: right;\">\n",
       "      <th></th>\n",
       "      <th>Area</th>\n",
       "      <th>Item</th>\n",
       "      <th>Year</th>\n",
       "      <th>average_rain_fall_mm_per_year</th>\n",
       "      <th>pesticides_tonnes</th>\n",
       "      <th>avg_temp</th>\n",
       "      <th>hg/ha_yield</th>\n",
       "    </tr>\n",
       "  </thead>\n",
       "  <tbody>\n",
       "    <tr>\n",
       "      <th>0</th>\n",
       "      <td>Albania</td>\n",
       "      <td>Maize</td>\n",
       "      <td>1990</td>\n",
       "      <td>1485</td>\n",
       "      <td>121.0</td>\n",
       "      <td>16.37</td>\n",
       "      <td>36613</td>\n",
       "    </tr>\n",
       "    <tr>\n",
       "      <th>1</th>\n",
       "      <td>Albania</td>\n",
       "      <td>Potatoes</td>\n",
       "      <td>1990</td>\n",
       "      <td>1485</td>\n",
       "      <td>121.0</td>\n",
       "      <td>16.37</td>\n",
       "      <td>66667</td>\n",
       "    </tr>\n",
       "    <tr>\n",
       "      <th>2</th>\n",
       "      <td>Albania</td>\n",
       "      <td>Rice, paddy</td>\n",
       "      <td>1990</td>\n",
       "      <td>1485</td>\n",
       "      <td>121.0</td>\n",
       "      <td>16.37</td>\n",
       "      <td>23333</td>\n",
       "    </tr>\n",
       "    <tr>\n",
       "      <th>3</th>\n",
       "      <td>Albania</td>\n",
       "      <td>Sorghum</td>\n",
       "      <td>1990</td>\n",
       "      <td>1485</td>\n",
       "      <td>121.0</td>\n",
       "      <td>16.37</td>\n",
       "      <td>12500</td>\n",
       "    </tr>\n",
       "    <tr>\n",
       "      <th>4</th>\n",
       "      <td>Albania</td>\n",
       "      <td>Soybeans</td>\n",
       "      <td>1990</td>\n",
       "      <td>1485</td>\n",
       "      <td>121.0</td>\n",
       "      <td>16.37</td>\n",
       "      <td>7000</td>\n",
       "    </tr>\n",
       "    <tr>\n",
       "      <th>5</th>\n",
       "      <td>Albania</td>\n",
       "      <td>Wheat</td>\n",
       "      <td>1990</td>\n",
       "      <td>1485</td>\n",
       "      <td>121.0</td>\n",
       "      <td>16.37</td>\n",
       "      <td>30197</td>\n",
       "    </tr>\n",
       "    <tr>\n",
       "      <th>6</th>\n",
       "      <td>Albania</td>\n",
       "      <td>Maize</td>\n",
       "      <td>1991</td>\n",
       "      <td>1485</td>\n",
       "      <td>121.0</td>\n",
       "      <td>15.36</td>\n",
       "      <td>29068</td>\n",
       "    </tr>\n",
       "    <tr>\n",
       "      <th>7</th>\n",
       "      <td>Albania</td>\n",
       "      <td>Potatoes</td>\n",
       "      <td>1991</td>\n",
       "      <td>1485</td>\n",
       "      <td>121.0</td>\n",
       "      <td>15.36</td>\n",
       "      <td>77818</td>\n",
       "    </tr>\n",
       "    <tr>\n",
       "      <th>8</th>\n",
       "      <td>Albania</td>\n",
       "      <td>Rice, paddy</td>\n",
       "      <td>1991</td>\n",
       "      <td>1485</td>\n",
       "      <td>121.0</td>\n",
       "      <td>15.36</td>\n",
       "      <td>28538</td>\n",
       "    </tr>\n",
       "    <tr>\n",
       "      <th>9</th>\n",
       "      <td>Albania</td>\n",
       "      <td>Sorghum</td>\n",
       "      <td>1991</td>\n",
       "      <td>1485</td>\n",
       "      <td>121.0</td>\n",
       "      <td>15.36</td>\n",
       "      <td>6667</td>\n",
       "    </tr>\n",
       "  </tbody>\n",
       "</table>\n",
       "</div>"
      ],
      "text/plain": [
       "      Area         Item  Year  average_rain_fall_mm_per_year  \\\n",
       "0  Albania        Maize  1990                           1485   \n",
       "1  Albania     Potatoes  1990                           1485   \n",
       "2  Albania  Rice, paddy  1990                           1485   \n",
       "3  Albania      Sorghum  1990                           1485   \n",
       "4  Albania     Soybeans  1990                           1485   \n",
       "5  Albania        Wheat  1990                           1485   \n",
       "6  Albania        Maize  1991                           1485   \n",
       "7  Albania     Potatoes  1991                           1485   \n",
       "8  Albania  Rice, paddy  1991                           1485   \n",
       "9  Albania      Sorghum  1991                           1485   \n",
       "\n",
       "   pesticides_tonnes  avg_temp  hg/ha_yield  \n",
       "0              121.0     16.37        36613  \n",
       "1              121.0     16.37        66667  \n",
       "2              121.0     16.37        23333  \n",
       "3              121.0     16.37        12500  \n",
       "4              121.0     16.37         7000  \n",
       "5              121.0     16.37        30197  \n",
       "6              121.0     15.36        29068  \n",
       "7              121.0     15.36        77818  \n",
       "8              121.0     15.36        28538  \n",
       "9              121.0     15.36         6667  "
      ]
     },
     "execution_count": 4,
     "metadata": {},
     "output_type": "execute_result"
    }
   ],
   "source": [
    "Path_to_data = \"climate-ds.csv\"\n",
    "data = pd.read_csv(Path_to_data, index_col=['Unnamed: 0'])\n",
    "data.head(10)"
   ]
  },
  {
   "cell_type": "code",
   "execution_count": 4,
   "metadata": {},
   "outputs": [
    {
     "name": "stdout",
     "output_type": "stream",
     "text": [
      "There are 28242 rows and 7 columns.\n"
     ]
    }
   ],
   "source": [
    "rows , columns = data.shape\n",
    "\n",
    "print('There are {} rows and {} columns.'.format(rows,columns))"
   ]
  },
  {
   "cell_type": "code",
   "execution_count": 2,
   "metadata": {},
   "outputs": [
    {
     "ename": "NameError",
     "evalue": "name 'data' is not defined",
     "output_type": "error",
     "traceback": [
      "\u001b[0;31m---------------------------------------------------------------------------\u001b[0m",
      "\u001b[0;31mNameError\u001b[0m                                 Traceback (most recent call last)",
      "Cell \u001b[0;32mIn[2], line 1\u001b[0m\n\u001b[0;32m----> 1\u001b[0m data\u001b[39m.\u001b[39minfo()\n",
      "\u001b[0;31mNameError\u001b[0m: name 'data' is not defined"
     ]
    }
   ],
   "source": [
    "data.info() "
   ]
  },
  {
   "cell_type": "code",
   "execution_count": null,
   "metadata": {},
   "outputs": [],
   "source": [
    "data.describe()"
   ]
  },
  {
   "cell_type": "code",
   "execution_count": null,
   "metadata": {},
   "outputs": [],
   "source": [
    "data.isnull().sum()"
   ]
  },
  {
   "cell_type": "code",
   "execution_count": null,
   "metadata": {},
   "outputs": [],
   "source": [
    "data[\"Item\"].value_counts()"
   ]
  },
  {
   "cell_type": "code",
   "execution_count": null,
   "metadata": {},
   "outputs": [],
   "source": [
    "df0 = data.loc[data[\"Item\"]==\"Potatoes\"]\n",
    "df0.sort_values(\"average_rain_fall_mm_per_year\", inplace=True)\n",
    "df1 = data.loc[data[\"Item\"]==\"Maize\"]\n",
    "df1.sort_values(\"average_rain_fall_mm_per_year\", inplace=True)\n",
    "df2 = data.loc[data[\"Item\"]==\"Wheat\"]\n",
    "df2.sort_values(\"average_rain_fall_mm_per_year\", inplace=True)\n",
    "df3 = data.loc[data[\"Item\"]==\"Rice, paddy\"]\n",
    "df3.sort_values(\"average_rain_fall_mm_per_year\", inplace=True)\n",
    "df4 = data.loc[data[\"Item\"]==\"Soybeans\"]\n",
    "df4.sort_values(\"average_rain_fall_mm_per_year\", inplace=True)\n",
    "df5 = data.loc[data[\"Item\"]==\"Sorghum\"]\n",
    "df5.sort_values(\"average_rain_fall_mm_per_year\", inplace=True)\n",
    "df6 = data.loc[data[\"Item\"]==\"Sweet potatoes\"]\n",
    "df6.sort_values(\"average_rain_fall_mm_per_year\", inplace=True)\n",
    "df7 = data.loc[data[\"Item\"]==\"Cassava\"]\n",
    "df7.sort_values(\"average_rain_fall_mm_per_year\", inplace=True)\n",
    "df8 = data.loc[data[\"Item\"]==\"Yams\"]\n",
    "df8.sort_values(\"average_rain_fall_mm_per_year\", inplace=True)\n",
    "df9 = data.loc[data[\"Item\"]==\"Plantains and others\"]\n",
    "df9.sort_values(\"average_rain_fall_mm_per_year\", inplace=True)"
   ]
  }
 ],
 "metadata": {
  "kernelspec": {
   "display_name": "base",
   "language": "python",
   "name": "python3"
  },
  "language_info": {
   "codemirror_mode": {
    "name": "ipython",
    "version": 3
   },
   "file_extension": ".py",
   "mimetype": "text/x-python",
   "name": "python",
   "nbconvert_exporter": "python",
   "pygments_lexer": "ipython3",
   "version": "3.10.9"
  },
  "orig_nbformat": 4
 },
 "nbformat": 4,
 "nbformat_minor": 2
}
